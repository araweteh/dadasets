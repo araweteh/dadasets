{
  "nbformat": 4,
  "nbformat_minor": 0,
  "metadata": {
    "colab": {
      "name": "Análise Exploratória.ipynb",
      "provenance": [],
      "include_colab_link": true
    },
    "kernelspec": {
      "name": "python3",
      "display_name": "Python 3"
    }
  },
  "cells": [
    {
      "cell_type": "markdown",
      "metadata": {
        "id": "view-in-github",
        "colab_type": "text"
      },
      "source": [
        "<a href=\"https://colab.research.google.com/github/araweteh/dadasets/blob/main/An%C3%A1lise_Explorat%C3%B3ria.ipynb\" target=\"_parent\"><img src=\"https://colab.research.google.com/assets/colab-badge.svg\" alt=\"Open In Colab\"/></a>"
      ]
    },
    {
      "cell_type": "markdown",
      "metadata": {
        "id": "2gpWF0r2dptU"
      },
      "source": [
        "# Fontes de dados"
      ]
    },
    {
      "cell_type": "code",
      "metadata": {
        "id": "LY08MmV5PNcM",
        "outputId": "92ac5325-928f-46fc-f8bc-1501b75bb94a",
        "colab": {
          "base_uri": "https://localhost:8080/",
          "height": 121
        }
      },
      "source": [
        "#Acessa pasta no Google Drive\n",
        "#from google.colab import drive\n",
        "#drive.mount(\"/content/drive/\", force_remount=True)\n",
        " \n",
        "import os\n",
        "#os.listdir(\"drive/My Drive/Colab Notebooks/DesafioIA/dbs\")\n",
        " \n",
        "os.listdir(\"./sample_data\")"
      ],
      "execution_count": null,
      "outputs": [
        {
          "output_type": "execute_result",
          "data": {
            "text/plain": [
              "['anscombe.json',\n",
              " 'README.md',\n",
              " 'mnist_train_small.csv',\n",
              " 'california_housing_train.csv',\n",
              " 'mnist_test.csv',\n",
              " 'california_housing_test.csv']"
            ]
          },
          "metadata": {
            "tags": []
          },
          "execution_count": 2
        }
      ]
    },
    {
      "cell_type": "code",
      "metadata": {
        "id": "zCppfPE_ga0E"
      },
      "source": [
        "import pandas as pd\n",
        "\n",
        "# Nome do arquivo para treino.\n",
        "treino = 'drive/My Drive/Colab Notebooks/DesafioIA/dbs/' + 'heart-train.csv'\n",
        "\n",
        "treino = pd.read_csv(treino, index_col=None, engine='python', sep =',', encoding=\"utf-8\")\n",
        "\n",
        "# Nome do arquivo teste.\n",
        "teste = 'drive/My Drive/Colab Notebooks/DesafioIA/dbs/' + 'heart-test.csv'\n",
        "\n",
        "teste = pd.read_csv(teste, index_col=None, engine='python', sep =',', encoding=\"utf-8\")\n",
        "\n",
        "# Nome do arquivo para previsoes.\n",
        "previsoes = 'drive/My Drive/Colab Notebooks/DesafioIA/dbs/' + 'heart-example.csv'\n",
        "\n",
        "previsoes = pd.read_csv(previsoes, index_col=None, engine='python', sep =',', encoding=\"utf-8\")"
      ],
      "execution_count": null,
      "outputs": []
    },
    {
      "cell_type": "markdown",
      "metadata": {
        "id": "Rw9GdyQmPNcj"
      },
      "source": [
        "Limpeza e tratamento dos dados carregados"
      ]
    },
    {
      "cell_type": "code",
      "metadata": {
        "id": "siSb3X0rrb-C"
      },
      "source": [
        "treino.head()"
      ],
      "execution_count": null,
      "outputs": []
    },
    {
      "cell_type": "markdown",
      "metadata": {
        "id": "hp9kQC-MjQGq"
      },
      "source": [
        "Exclusão de colunas irrelevantes para o modelo e de linhas com valores ausentes"
      ]
    },
    {
      "cell_type": "code",
      "metadata": {
        "id": "LoOh-WtujhNR"
      },
      "source": [
        "treino.drop(['Paciente'],axis=1,inplace=True)"
      ],
      "execution_count": null,
      "outputs": []
    },
    {
      "cell_type": "code",
      "metadata": {
        "id": "RxazCEqarssx"
      },
      "source": [
        "treino.drop_duplicates(inplace=True)\n",
        "treino.duplicated().sum()"
      ],
      "execution_count": null,
      "outputs": []
    },
    {
      "cell_type": "code",
      "metadata": {
        "id": "-31YdDvMsoR3"
      },
      "source": [
        "treino.isnull().sum()"
      ],
      "execution_count": null,
      "outputs": []
    },
    {
      "cell_type": "code",
      "metadata": {
        "id": "jXfggQOst633"
      },
      "source": [
        "# Converte os atributos categóricos em quantitativos discretos.\n",
        "    for column in treino.columns:\n",
        "        if str(treino[column].dtype) not in ['float64', 'int64']:\n",
        "            treino[column] = treino[column].map \\\n",
        "            (dict(zip(treino[column].unique().tolist(),range(len(treino[column].unique().tolist())))))\n",
        "            treino.fillna({column:0}, inplace=True)\n",
        "\n"
      ],
      "execution_count": null,
      "outputs": []
    },
    {
      "cell_type": "markdown",
      "metadata": {
        "id": "x1x82aIUmbTx"
      },
      "source": [
        ""
      ]
    },
    {
      "cell_type": "code",
      "metadata": {
        "id": "gexFwxqzATpq"
      },
      "source": [
        "teste.head()"
      ],
      "execution_count": null,
      "outputs": []
    },
    {
      "cell_type": "code",
      "metadata": {
        "id": "o4tDPe4FkWZV"
      },
      "source": [
        "teste.drop(['Paciente'],axis=1,inplace=True)"
      ],
      "execution_count": null,
      "outputs": []
    },
    {
      "cell_type": "code",
      "metadata": {
        "id": "qbGLb6ifPNc0"
      },
      "source": [
        "previsoes.head()"
      ],
      "execution_count": null,
      "outputs": []
    },
    {
      "cell_type": "markdown",
      "metadata": {
        "id": "-ZMJGD641I1Q"
      },
      "source": [
        "# Análise exploratória dos dados de doenças cardíacas e seus respectivos diagnósticos."
      ]
    },
    {
      "cell_type": "markdown",
      "metadata": {
        "id": "mouB8vCa44F3"
      },
      "source": [
        "## - Análise estatística descritiva sobre a amostra disponibilizada."
      ]
    },
    {
      "cell_type": "code",
      "metadata": {
        "id": "ReaJkz5riWNV"
      },
      "source": [
        ""
      ],
      "execution_count": null,
      "outputs": []
    },
    {
      "cell_type": "markdown",
      "metadata": {
        "id": "cEMrqSfR5eyX"
      },
      "source": [
        "## - Exploração analítica por meio de bibliotecas de visualização."
      ]
    },
    {
      "cell_type": "code",
      "metadata": {
        "id": "jVvNOFM_iXxr"
      },
      "source": [
        ""
      ],
      "execution_count": null,
      "outputs": []
    },
    {
      "cell_type": "markdown",
      "metadata": {
        "id": "F8X9h-Ri5kTu"
      },
      "source": [
        "## - Passos que guiaram a seleção dos melhores atributos para o modelo."
      ]
    },
    {
      "cell_type": "code",
      "metadata": {
        "id": "OfuHvtrGiZN3"
      },
      "source": [
        ""
      ],
      "execution_count": null,
      "outputs": []
    },
    {
      "cell_type": "markdown",
      "metadata": {
        "id": "Q-PsZeP15oOS"
      },
      "source": [
        "## - Passos que subsidiaram possíveis transformações que se fizeram necessárias nos dados de entrada."
      ]
    },
    {
      "cell_type": "code",
      "metadata": {
        "id": "pbRFxxKfiaJ2"
      },
      "source": [
        ""
      ],
      "execution_count": null,
      "outputs": []
    }
  ]
}